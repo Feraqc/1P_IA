{
  "cells": [
    {
      "cell_type": "code",
      "execution_count": null,
      "metadata": {
        "id": "wamZbX8LbFkX"
      },
      "outputs": [],
      "source": []
    },
    {
      "cell_type": "code",
      "execution_count": null,
      "metadata": {
        "id": "SCgmoH0E6vsq"
      },
      "outputs": [],
      "source": [
        "import pandas as pd\n",
        "import numpy as np\n",
        "from sklearn import preprocessing\n",
        "import matplotlib.pyplot as plt\n",
        "import seaborn as sns\n",
        "from sklearn.preprocessing import StandardScaler\n",
        "from sklearn.preprocessing import MinMaxScaler\n",
        "from sklearn.preprocessing import OneHotEncoder\n",
        "from keras.layers import LSTM\n",
        "from keras.layers import Dense\n",
        "from keras.models import Sequential\n",
        "from keras.layers import Dropout\n",
        "from keras.utils import to_categorical\n",
        "import tensorflow as tf"
      ]
    },
    {
      "cell_type": "code",
      "execution_count": null,
      "metadata": {
        "colab": {
          "base_uri": "https://localhost:8080/"
        },
        "id": "zO7Mw6AFHa0d",
        "outputId": "1f111195-4ef9-41d0-d2b4-a735d4c14ccc"
      },
      "outputs": [
        {
          "name": "stdout",
          "output_type": "stream",
          "text": [
            "(220320, 55)\n",
            "Index(['Unnamed: 0', 'timestamp', 'sensor_00', 'sensor_01', 'sensor_02',\n",
            "       'sensor_03', 'sensor_04', 'sensor_05', 'sensor_06', 'sensor_07',\n",
            "       'sensor_08', 'sensor_09', 'sensor_10', 'sensor_11', 'sensor_12',\n",
            "       'sensor_13', 'sensor_14', 'sensor_15', 'sensor_16', 'sensor_17',\n",
            "       'sensor_18', 'sensor_19', 'sensor_20', 'sensor_21', 'sensor_22',\n",
            "       'sensor_23', 'sensor_24', 'sensor_25', 'sensor_26', 'sensor_27',\n",
            "       'sensor_28', 'sensor_29', 'sensor_30', 'sensor_31', 'sensor_32',\n",
            "       'sensor_33', 'sensor_34', 'sensor_35', 'sensor_36', 'sensor_37',\n",
            "       'sensor_38', 'sensor_39', 'sensor_40', 'sensor_41', 'sensor_42',\n",
            "       'sensor_43', 'sensor_44', 'sensor_45', 'sensor_46', 'sensor_47',\n",
            "       'sensor_48', 'sensor_49', 'sensor_50', 'sensor_51', 'machine_status'],\n",
            "      dtype='object')\n",
            "   Unnamed: 0            timestamp  sensor_00  sensor_01  sensor_02  \\\n",
            "0           0  2018-04-01 00:00:00   2.465394   47.09201    53.2118   \n",
            "1           1  2018-04-01 00:01:00   2.465394   47.09201    53.2118   \n",
            "2           2  2018-04-01 00:02:00   2.444734   47.35243    53.2118   \n",
            "3           3  2018-04-01 00:03:00   2.460474   47.09201    53.1684   \n",
            "4           4  2018-04-01 00:04:00   2.445718   47.13541    53.2118   \n",
            "\n",
            "   sensor_03  sensor_04  sensor_05  sensor_06  sensor_07  ...  sensor_43  \\\n",
            "0  46.310760   634.3750   76.45975   13.41146   16.13136  ...   41.92708   \n",
            "1  46.310760   634.3750   76.45975   13.41146   16.13136  ...   41.92708   \n",
            "2  46.397570   638.8889   73.54598   13.32465   16.03733  ...   41.66666   \n",
            "3  46.397568   628.1250   76.98898   13.31742   16.24711  ...   40.88541   \n",
            "4  46.397568   636.4583   76.58897   13.35359   16.21094  ...   41.40625   \n",
            "\n",
            "   sensor_44  sensor_45  sensor_46  sensor_47  sensor_48  sensor_49  \\\n",
            "0  39.641200   65.68287   50.92593  38.194440   157.9861   67.70834   \n",
            "1  39.641200   65.68287   50.92593  38.194440   157.9861   67.70834   \n",
            "2  39.351852   65.39352   51.21528  38.194443   155.9606   67.12963   \n",
            "3  39.062500   64.81481   51.21528  38.194440   155.9606   66.84028   \n",
            "4  38.773150   65.10416   51.79398  38.773150   158.2755   66.55093   \n",
            "\n",
            "   sensor_50  sensor_51  machine_status  \n",
            "0   243.0556   201.3889          NORMAL  \n",
            "1   243.0556   201.3889          NORMAL  \n",
            "2   241.3194   203.7037          NORMAL  \n",
            "3   240.4514   203.1250          NORMAL  \n",
            "4   242.1875   201.3889          NORMAL  \n",
            "\n",
            "[5 rows x 55 columns]\n"
          ]
        }
      ],
      "source": [
        "data=pd.read_csv(\"/content/drive/MyDrive/IA/sensor.csv\")\n",
        "print(data.shape)\n",
        "print(data.keys())\n",
        "print(data.head())"
      ]
    },
    {
      "cell_type": "code",
      "execution_count": null,
      "metadata": {
        "colab": {
          "base_uri": "https://localhost:8080/"
        },
        "id": "eK4Ve816Qo0b",
        "outputId": "b4e92892-b206-46ff-d7ea-167132dab246"
      },
      "outputs": [
        {
          "data": {
            "text/plain": [
              "Unnamed: 0          int64\n",
              "timestamp          object\n",
              "sensor_00         float64\n",
              "sensor_01         float64\n",
              "sensor_02         float64\n",
              "sensor_03         float64\n",
              "sensor_04         float64\n",
              "sensor_05         float64\n",
              "sensor_06         float64\n",
              "sensor_07         float64\n",
              "sensor_08         float64\n",
              "sensor_09         float64\n",
              "sensor_10         float64\n",
              "sensor_11         float64\n",
              "sensor_12         float64\n",
              "sensor_13         float64\n",
              "sensor_14         float64\n",
              "sensor_15         float64\n",
              "sensor_16         float64\n",
              "sensor_17         float64\n",
              "sensor_18         float64\n",
              "sensor_19         float64\n",
              "sensor_20         float64\n",
              "sensor_21         float64\n",
              "sensor_22         float64\n",
              "sensor_23         float64\n",
              "sensor_24         float64\n",
              "sensor_25         float64\n",
              "sensor_26         float64\n",
              "sensor_27         float64\n",
              "sensor_28         float64\n",
              "sensor_29         float64\n",
              "sensor_30         float64\n",
              "sensor_31         float64\n",
              "sensor_32         float64\n",
              "sensor_33         float64\n",
              "sensor_34         float64\n",
              "sensor_35         float64\n",
              "sensor_36         float64\n",
              "sensor_37         float64\n",
              "sensor_38         float64\n",
              "sensor_39         float64\n",
              "sensor_40         float64\n",
              "sensor_41         float64\n",
              "sensor_42         float64\n",
              "sensor_43         float64\n",
              "sensor_44         float64\n",
              "sensor_45         float64\n",
              "sensor_46         float64\n",
              "sensor_47         float64\n",
              "sensor_48         float64\n",
              "sensor_49         float64\n",
              "sensor_50         float64\n",
              "sensor_51         float64\n",
              "machine_status     object\n",
              "dtype: object"
            ]
          },
          "execution_count": 4,
          "metadata": {},
          "output_type": "execute_result"
        }
      ],
      "source": [
        "data.dtypes"
      ]
    },
    {
      "cell_type": "code",
      "execution_count": null,
      "metadata": {
        "colab": {
          "base_uri": "https://localhost:8080/",
          "height": 52
        },
        "id": "PT026PjRTvIr",
        "outputId": "d41696ec-1ab1-4069-b273-4a1b12dbc8d5"
      },
      "outputs": [
        {
          "data": {
            "application/vnd.google.colaboratory.intrinsic+json": {
              "type": "string"
            },
            "text/plain": [
              "\"data_plot = data.drop(labels=['timestamp','machine_status'],axis=1)\\nfor column in data_plot.columns:\\n  plt.plot(data_plot['Unnamed: 0'],data_plot[column])\\n  plt.ylabel(column)\\n  plt.show()\""
            ]
          },
          "execution_count": 5,
          "metadata": {},
          "output_type": "execute_result"
        }
      ],
      "source": [
        "\"\"\"data_plot = data.drop(labels=['timestamp','machine_status'],axis=1)\n",
        "for column in data_plot.columns:\n",
        "  plt.plot(data_plot['Unnamed: 0'],data_plot[column])\n",
        "  plt.ylabel(column)\n",
        "  plt.show()\"\"\"\n",
        "\n"
      ]
    },
    {
      "cell_type": "code",
      "execution_count": null,
      "metadata": {
        "colab": {
          "base_uri": "https://localhost:8080/"
        },
        "id": "kuY7n5JNPJAy",
        "outputId": "fe64f2b3-bf97-483a-c447-ce3facbdb34d"
      },
      "outputs": [
        {
          "data": {
            "text/plain": [
              "Unnamed: 0          0.000000\n",
              "timestamp           0.000000\n",
              "sensor_00           4.633261\n",
              "sensor_01           0.167484\n",
              "sensor_02           0.008624\n",
              "sensor_03           0.008624\n",
              "sensor_04           0.008624\n",
              "sensor_05           0.008624\n",
              "sensor_06           2.177741\n",
              "sensor_07           2.474129\n",
              "sensor_08           2.317992\n",
              "sensor_09           2.085603\n",
              "sensor_10           0.008624\n",
              "sensor_11           0.008624\n",
              "sensor_12           0.008624\n",
              "sensor_13           0.008624\n",
              "sensor_14           0.009532\n",
              "sensor_15         100.000000\n",
              "sensor_16           0.014070\n",
              "sensor_17           0.020879\n",
              "sensor_18           0.020879\n",
              "sensor_19           0.007262\n",
              "sensor_20           0.007262\n",
              "sensor_21           0.007262\n",
              "sensor_22           0.018609\n",
              "sensor_23           0.007262\n",
              "sensor_24           0.007262\n",
              "sensor_25           0.016340\n",
              "sensor_26           0.009078\n",
              "sensor_27           0.007262\n",
              "sensor_28           0.007262\n",
              "sensor_29           0.032680\n",
              "sensor_30           0.118464\n",
              "sensor_31           0.007262\n",
              "sensor_32           0.030864\n",
              "sensor_33           0.007262\n",
              "sensor_34           0.007262\n",
              "sensor_35           0.007262\n",
              "sensor_36           0.007262\n",
              "sensor_37           0.007262\n",
              "sensor_38           0.012255\n",
              "sensor_39           0.012255\n",
              "sensor_40           0.012255\n",
              "sensor_41           0.012255\n",
              "sensor_42           0.012255\n",
              "sensor_43           0.012255\n",
              "sensor_44           0.012255\n",
              "sensor_45           0.012255\n",
              "sensor_46           0.012255\n",
              "sensor_47           0.012255\n",
              "sensor_48           0.012255\n",
              "sensor_49           0.012255\n",
              "sensor_50          34.956881\n",
              "sensor_51           6.982117\n",
              "machine_status      0.000000\n",
              "dtype: float64"
            ]
          },
          "execution_count": 6,
          "metadata": {},
          "output_type": "execute_result"
        }
      ],
      "source": [
        "(data.isna().sum()/220320)*100"
      ]
    },
    {
      "cell_type": "code",
      "execution_count": null,
      "metadata": {
        "colab": {
          "base_uri": "https://localhost:8080/"
        },
        "id": "NidJu735IkcF",
        "outputId": "d8b7a31d-85e3-468b-b75a-b3f29f60f2f0"
      },
      "outputs": [
        {
          "name": "stdout",
          "output_type": "stream",
          "text": [
            "['NORMAL' 'BROKEN' 'RECOVERING']\n",
            "NORMAL        205836\n",
            "RECOVERING     14477\n",
            "BROKEN             7\n",
            "Name: machine_status, dtype: int64\n"
          ]
        }
      ],
      "source": [
        "print( data['machine_status'].unique())\n",
        "print (data['machine_status'].value_counts())"
      ]
    },
    {
      "cell_type": "code",
      "execution_count": null,
      "metadata": {
        "colab": {
          "base_uri": "https://localhost:8080/"
        },
        "id": "G35FtcRIIksY",
        "outputId": "1e03062d-f964-4620-b9e2-e764435e9dd4"
      },
      "outputs": [
        {
          "name": "stdout",
          "output_type": "stream",
          "text": [
            "{'BROKEN': 0, 'NORMAL': 1, 'RECOVERING': 2}\n"
          ]
        }
      ],
      "source": [
        "    le = preprocessing.LabelEncoder()\n",
        "    le.fit(data['machine_status'])\n",
        "    data['machine_status'] = pd.DataFrame(le.transform(data['machine_status']),columns=['target'])\n",
        "    le_name_mapping = dict(zip(le.classes_, le.transform(le.classes_)))\n",
        "    print(le_name_mapping)"
      ]
    },
    {
      "cell_type": "code",
      "execution_count": null,
      "metadata": {
        "colab": {
          "base_uri": "https://localhost:8080/",
          "height": 455
        },
        "id": "sc6RZ1ZhJfse",
        "outputId": "02a53ccb-bb53-46ff-a242-89dce4e4b563"
      },
      "outputs": [
        {
          "data": {
            "image/png": "[encoded data removed]",
            "text/plain": [
              "<Figure size 640x480 with 1 Axes>"
            ]
          },
          "metadata": {},
          "output_type": "display_data"
        }
      ],
      "source": [
        "    x=np.linspace(1,data.shape[0],data.shape[0])\n",
        "    plt.plot(x,data['machine_status'])\n",
        "    plt.ylabel('class')\n",
        "    plt.title('Target')\n",
        "    labels = ['Normal','Broken','Recovering']\n",
        "    plt.yticks([1,0,2], labels, rotation='vertical')\n",
        "    plt.show()"
      ]
    },
    {
      "cell_type": "code",
      "execution_count": null,
      "metadata": {
        "colab": {
          "base_uri": "https://localhost:8080/",
          "height": 447
        },
        "id": "7gH98rFMbHOa",
        "outputId": "cf8dcaa1-31f2-4e63-e079-e38d9687cd94"
      },
      "outputs": [
        {
          "data": {
            "text/plain": [
              "[<matplotlib.lines.Line2D at 0x7bc5f6616cb0>]"
            ]
          },
          "execution_count": 10,
          "metadata": {},
          "output_type": "execute_result"
        },
        {
          "data": {
            "image/png": "[encoded data removed]",
            "text/plain": [
              "<Figure size 640x480 with 1 Axes>"
            ]
          },
          "metadata": {},
          "output_type": "display_data"
        }
      ],
      "source": [
        "plt.plot(data['Unnamed: 0'],data['machine_status'])"
      ]
    },
    {
      "cell_type": "code",
      "execution_count": null,
      "metadata": {
        "colab": {
          "base_uri": "https://localhost:8080/"
        },
        "id": "k57_mKeVJqgF",
        "outputId": "82f539b4-8e7b-434d-f097-f01c801b7af2"
      },
      "outputs": [
        {
          "name": "stderr",
          "output_type": "stream",
          "text": [
            "<ipython-input-11-b1651ff5d650>:1: SettingWithCopyWarning: \n",
            "A value is trying to be set on a copy of a slice from a DataFrame\n",
            "\n",
            "See the caveats in the documentation: https://pandas.pydata.org/pandas-docs/stable/user_guide/indexing.html#returning-a-view-versus-a-copy\n",
            "  data['sensor_51'][110000:140000]=data['sensor_50'][110000:140000]\n"
          ]
        }
      ],
      "source": [
        "    data['sensor_51'][110000:140000]=data['sensor_50'][110000:140000]\n",
        "    data=data.drop(labels=['sensor_00','sensor_15','sensor_37','sensor_50'],axis=1)\n",
        "    data=data.drop(labels=['sensor_06','sensor_07','sensor_08','sensor_09'],axis=1)\n",
        "    data=data.fillna(method=\"pad\",limit=30)\n",
        "    data=data.dropna()"
      ]
    },
    {
      "cell_type": "code",
      "execution_count": null,
      "metadata": {
        "colab": {
          "base_uri": "https://localhost:8080/"
        },
        "id": "9_70FMpnVDOe",
        "outputId": "60e68fec-b828-48ed-dd77-d14f4e0374f7"
      },
      "outputs": [
        {
          "name": "stdout",
          "output_type": "stream",
          "text": [
            "Unnamed: 0        0.0\n",
            "timestamp         0.0\n",
            "sensor_01         0.0\n",
            "sensor_02         0.0\n",
            "sensor_03         0.0\n",
            "sensor_04         0.0\n",
            "sensor_05         0.0\n",
            "sensor_10         0.0\n",
            "sensor_11         0.0\n",
            "sensor_12         0.0\n",
            "sensor_13         0.0\n",
            "sensor_14         0.0\n",
            "sensor_16         0.0\n",
            "sensor_17         0.0\n",
            "sensor_18         0.0\n",
            "sensor_19         0.0\n",
            "sensor_20         0.0\n",
            "sensor_21         0.0\n",
            "sensor_22         0.0\n",
            "sensor_23         0.0\n",
            "sensor_24         0.0\n",
            "sensor_25         0.0\n",
            "sensor_26         0.0\n",
            "sensor_27         0.0\n",
            "sensor_28         0.0\n",
            "sensor_29         0.0\n",
            "sensor_30         0.0\n",
            "sensor_31         0.0\n",
            "sensor_32         0.0\n",
            "sensor_33         0.0\n",
            "sensor_34         0.0\n",
            "sensor_35         0.0\n",
            "sensor_36         0.0\n",
            "sensor_38         0.0\n",
            "sensor_39         0.0\n",
            "sensor_40         0.0\n",
            "sensor_41         0.0\n",
            "sensor_42         0.0\n",
            "sensor_43         0.0\n",
            "sensor_44         0.0\n",
            "sensor_45         0.0\n",
            "sensor_46         0.0\n",
            "sensor_47         0.0\n",
            "sensor_48         0.0\n",
            "sensor_49         0.0\n",
            "sensor_51         0.0\n",
            "machine_status    0.0\n",
            "dtype: float64\n",
            "(219913, 47)\n"
          ]
        }
      ],
      "source": [
        "print((data.isna().sum()/220320)*100)\n",
        "print(data.shape)"
      ]
    },
    {
      "cell_type": "code",
      "execution_count": null,
      "metadata": {
        "colab": {
          "base_uri": "https://localhost:8080/"
        },
        "id": "UJYaPjkrLARC",
        "outputId": "6173c790-d324-4f2d-ba68-130b55c3b232"
      },
      "outputs": [
        {
          "name": "stdout",
          "output_type": "stream",
          "text": [
            "Index(['Unnamed: 0', 'timestamp', 'sensor_01', 'sensor_02', 'sensor_03',\n",
            "       'sensor_04', 'sensor_05', 'sensor_10', 'sensor_11', 'sensor_12',\n",
            "       'sensor_13', 'sensor_14', 'sensor_16', 'sensor_17', 'sensor_18',\n",
            "       'sensor_19', 'sensor_20', 'sensor_21', 'sensor_22', 'sensor_23',\n",
            "       'sensor_24', 'sensor_25', 'sensor_26', 'sensor_27', 'sensor_28',\n",
            "       'sensor_29', 'sensor_30', 'sensor_31', 'sensor_32', 'sensor_33',\n",
            "       'sensor_34', 'sensor_35', 'sensor_36', 'sensor_38', 'sensor_39',\n",
            "       'sensor_40', 'sensor_41', 'sensor_42', 'sensor_43', 'sensor_44',\n",
            "       'sensor_45', 'sensor_46', 'sensor_47', 'sensor_48', 'sensor_49',\n",
            "       'sensor_51', 'machine_status'],\n",
            "      dtype='object')\n"
          ]
        },
        {
          "data": {
            "text/plain": [
              "47"
            ]
          },
          "execution_count": 13,
          "metadata": {},
          "output_type": "execute_result"
        }
      ],
      "source": [
        "print(data.columns)\n",
        "len(data.columns)"
      ]
    },
    {
      "cell_type": "code",
      "execution_count": null,
      "metadata": {
        "id": "KTcEeO97MjzK"
      },
      "outputs": [],
      "source": [
        "df_train = data.drop(labels=['Unnamed: 0','timestamp'],axis=1)"
      ]
    },
    {
      "cell_type": "code",
      "execution_count": null,
      "metadata": {
        "id": "cy9gq-1ndwmO"
      },
      "outputs": [],
      "source": [
        "scaler = MinMaxScaler().fit(df_train)\n",
        "df_train_scaled = scaler.transform(df_train)"
      ]
    },
    {
      "cell_type": "code",
      "execution_count": null,
      "metadata": {
        "colab": {
          "base_uri": "https://localhost:8080/",
          "height": 447
        },
        "id": "p19o6tgWVLCq",
        "outputId": "12b62059-838c-4157-856c-44521c62ac6f"
      },
      "outputs": [
        {
          "data": {
            "text/plain": [
              "[<matplotlib.lines.Line2D at 0x7bc5f646f220>]"
            ]
          },
          "execution_count": 16,
          "metadata": {},
          "output_type": "execute_result"
        },
        {
          "data": {
            "image/png": "[encoded data removed]",
            "text/plain": [
              "<Figure size 640x480 with 1 Axes>"
            ]
          },
          "metadata": {},
          "output_type": "display_data"
        }
      ],
      "source": [
        "plt.plot(df_train_scaled[:,-1])"
      ]
    },
    {
      "cell_type": "code",
      "execution_count": null,
      "metadata": {
        "id": "rjvOS2UrNRBM"
      },
      "outputs": [],
      "source": [
        "X = []\n",
        "y = []\n",
        "\n",
        "n_future = 1\n",
        "n_past = 10\n",
        "\n",
        "for i in range(n_past,len(df_train_scaled)-n_future+1):\n",
        "  X.append(df_train_scaled[i-n_past:i,0:df_train.shape[1]])\n",
        "  y.append(df_train_scaled[i+n_future-1:i+n_future,-1])\n",
        "\n",
        "X, y = np.array(X),np.array(y)\n"
      ]
    },
    {
      "cell_type": "code",
      "execution_count": null,
      "metadata": {
        "id": "uV6qYTWObJAu"
      },
      "outputs": [],
      "source": [
        "X_train=X[0:120000]\n",
        "y_train=y[0:120000]\n",
        "\n",
        "X_val=X[140000::]\n",
        "y_val=y[140000::]\n",
        "\n",
        "X_test=X[120000:140000]\n",
        "y_test=y[120000:140000]\n",
        "\n",
        "\n"
      ]
    },
    {
      "cell_type": "code",
      "execution_count": null,
      "metadata": {
        "id": "T15EBkOIiAEx"
      },
      "outputs": [],
      "source": [
        "    oneHot=OneHotEncoder()\n",
        "    oneHot.fit(y.reshape(-1,1))\n",
        "\n",
        "    y_train = oneHot.transform(y_train.reshape(-1,1)).toarray()\n",
        "    y_val  = oneHot.transform(y_val.reshape(-1,1)).toarray()\n",
        "    y_test = oneHot.transform(y_test.reshape(-1,1)).toarray()"
      ]
    },
    {
      "cell_type": "code",
      "execution_count": null,
      "metadata": {
        "colab": {
          "base_uri": "https://localhost:8080/"
        },
        "id": "anlIgq-mw2oI",
        "outputId": "eca33239-c7cd-4e20-8bce-6b799699704f"
      },
      "outputs": [
        {
          "data": {
            "text/plain": [
              "(120000, 3)"
            ]
          },
          "execution_count": 68,
          "metadata": {},
          "output_type": "execute_result"
        }
      ],
      "source": [
        "y_train.shape"
      ]
    },
    {
      "cell_type": "code",
      "execution_count": null,
      "metadata": {
        "id": "xmF5uxeaxsA7"
      },
      "outputs": [],
      "source": [
        "import tensorflow as tf\n",
        "\n",
        "config = tf.compat.v1.ConfigProto()\n",
        "config.gpu_options.per_process_gpu_memory_fraction = 0.9\n",
        "tf.compat.v1.keras.backend.set_session(tf.compat.v1.Session(config=config))"
      ]
    },
    {
      "cell_type": "code",
      "execution_count": null,
      "metadata": {
        "colab": {
          "base_uri": "https://localhost:8080/"
        },
        "id": "VHDPp_dUbK0C",
        "outputId": "4ad61606-afb0-4ba1-b32e-459d1313abb1"
      },
      "outputs": [
        {
          "name": "stdout",
          "output_type": "stream",
          "text": [
            "Model: \"sequential_4\"\n",
            "_________________________________________________________________\n",
            " Layer (type)                Output Shape              Param #   \n",
            "=================================================================\n",
            " lstm_8 (LSTM)               (None, 10, 32)            9984      \n",
            "                                                                 \n",
            " lstm_9 (LSTM)               (None, 32)                8320      \n",
            "                                                                 \n",
            " dense_4 (Dense)             (None, 3)                 99        \n",
            "                                                                 \n",
            "=================================================================\n",
            "Total params: 18403 (71.89 KB)\n",
            "Trainable params: 18403 (71.89 KB)\n",
            "Non-trainable params: 0 (0.00 Byte)\n",
            "_________________________________________________________________\n",
            "None\n"
          ]
        }
      ],
      "source": [
        "model = Sequential()\n",
        "model.add(LSTM(32,activation='relu',input_shape=(X_train.shape[1],X_train.shape[2]),return_sequences=True))\n",
        "model.add(LSTM(32,activation='relu'))\n",
        "model.add(Dense(3,activation='softmax'))\n",
        "\n",
        "model.compile(optimizer='adam',loss='categorical_crossentropy',metrics='accuracy')\n",
        "\n",
        "print(model.summary())"
      ]
    },
    {
      "cell_type": "code",
      "execution_count": null,
      "metadata": {
        "colab": {
          "background_save": true,
          "base_uri": "https://localhost:8080/"
        },
        "id": "7kVBO8xov9Wh",
        "outputId": "fcb6d194-2e48-495e-d802-1311bd978b01"
      },
      "outputs": [
        {
          "name": "stdout",
          "output_type": "stream",
          "text": [
            "Epoch 1/15\n",
            "3750/3750 [==============================] - 54s 14ms/step - loss: 0.4299 - accuracy: 0.9574 - val_loss: 0.0097 - val_accuracy: 0.9985\n",
            "Epoch 2/15\n",
            "3750/3750 [==============================] - 60s 16ms/step - loss: 0.2860 - accuracy: 0.9723 - val_loss: 0.0228 - val_accuracy: 0.9985\n",
            "Epoch 3/15\n",
            "3750/3750 [==============================] - 52s 14ms/step - loss: 0.1741 - accuracy: 0.9689 - val_loss: 0.0171 - val_accuracy: 0.9985\n",
            "Epoch 4/15\n",
            "3750/3750 [==============================] - 53s 14ms/step - loss: 0.0983 - accuracy: 0.9614 - val_loss: 0.0073 - val_accuracy: 0.9989\n",
            "Epoch 5/15\n",
            "3750/3750 [==============================] - 54s 14ms/step - loss: 0.0548 - accuracy: 0.9776 - val_loss: 0.0053 - val_accuracy: 0.9987\n",
            "Epoch 6/15\n",
            "3750/3750 [==============================] - 61s 16ms/step - loss: 0.0678 - accuracy: 0.9815 - val_loss: 0.0045 - val_accuracy: 0.9989\n",
            "Epoch 7/15\n",
            "3750/3750 [==============================] - 59s 16ms/step - loss: 0.1688 - accuracy: 0.9879 - val_loss: 0.0089 - val_accuracy: 0.9986\n",
            "Epoch 8/15\n",
            "3750/3750 [==============================] - 50s 13ms/step - loss: 0.0371 - accuracy: 0.9867 - val_loss: 0.0051 - val_accuracy: 0.9991\n",
            "Epoch 9/15\n",
            "3750/3750 [==============================] - 59s 16ms/step - loss: 0.0248 - accuracy: 0.9899 - val_loss: 0.0044 - val_accuracy: 0.9991\n",
            "Epoch 10/15\n",
            "3750/3750 [==============================] - 52s 14ms/step - loss: 0.0200 - accuracy: 0.9918 - val_loss: 0.0039 - val_accuracy: 0.9992\n",
            "Epoch 11/15\n",
            "3750/3750 [==============================] - 55s 15ms/step - loss: 0.0156 - accuracy: 0.9943 - val_loss: 0.0040 - val_accuracy: 0.9992\n",
            "Epoch 12/15\n",
            "3750/3750 [==============================] - 51s 14ms/step - loss: 0.0134 - accuracy: 0.9959 - val_loss: 0.0045 - val_accuracy: 0.9991\n",
            "Epoch 13/15\n",
            "3750/3750 [==============================] - 50s 13ms/step - loss: 0.0098 - accuracy: 0.9985 - val_loss: 0.0030 - val_accuracy: 0.9992\n",
            "Epoch 14/15\n",
            "3750/3750 [==============================] - 59s 16ms/step - loss: 0.0041 - accuracy: 0.9994 - val_loss: 0.0031 - val_accuracy: 0.9992\n",
            "Epoch 15/15\n",
            "3750/3750 [==============================] - 62s 17ms/step - loss: 0.0034 - accuracy: 0.9995 - val_loss: 0.0032 - val_accuracy: 0.9995\n"
          ]
        }
      ],
      "source": [
        "history = model.fit(X_train,y_train,epochs=15,batch_size=32, validation_data=(X_val,y_val), shuffle=False)"
      ]
    },
    {
      "cell_type": "code",
      "execution_count": null,
      "metadata": {
        "colab": {
          "base_uri": "https://localhost:8080/",
          "height": 843
        },
        "id": "a6JC0vMo_I9T",
        "outputId": "cad3ba6f-4ce4-4edb-d08c-8ffd0c8d91ee"
      },
      "outputs": [
        {
          "output_type": "display_data",
          "data": {
            "text/plain": [
              "<Figure size 640x480 with 1 Axes>"
            ],
            "image/png": "[encoded data removed]"
          },
          "metadata": {}
        },
        {
          "output_type": "display_data",
          "data": {
            "text/plain": [
              "<Figure size 640x480 with 1 Axes>"
            ],
            "image/png": "[encoded data removed]"
          },
          "metadata": {}
        }
      ],
      "source": [
        "fig = plt.figure()\n",
        "plt.plot(history.history['loss'],'r')\n",
        "plt.plot(history.history['val_loss'])\n",
        "plt.show()\n",
        "plt.plot(history.history['accuracy'],'r')\n",
        "plt.plot(history.history['val_accuracy'])\n",
        "plt.show()"
      ]
    },
    {
      "cell_type": "code",
      "execution_count": null,
      "metadata": {
        "colab": {
          "base_uri": "https://localhost:8080/"
        },
        "id": "b6y-wJZIu914",
        "outputId": "62817687-140e-4985-fb3f-274be8bd2004"
      },
      "outputs": [
        {
          "output_type": "stream",
          "name": "stdout",
          "text": [
            "625/625 [==============================] - 9s 12ms/step\n"
          ]
        }
      ],
      "source": [
        "y_pred= model.predict(X_test)"
      ]
    },
    {
      "cell_type": "code",
      "execution_count": null,
      "metadata": {
        "id": "8liEuP3CbUGq"
      },
      "outputs": [],
      "source": [
        "Y_pred_class=[np.argmax(y_pred[i],0) for i in range(len(y_pred))]"
      ]
    },
    {
      "cell_type": "code",
      "execution_count": null,
      "metadata": {
        "id": "RQAGY26HI0qj"
      },
      "outputs": [],
      "source": [
        "y_target = data['machine_status'].values\n",
        "y_prueba = y_target[120000:140000]\n",
        "\n",
        "y_prueba_scaled = oneHot.inverse_transform(y_test)\n"
      ]
    },
    {
      "cell_type": "code",
      "execution_count": null,
      "metadata": {
        "colab": {
          "base_uri": "https://localhost:8080/",
          "height": 447
        },
        "id": "wKOB6MeRJBME",
        "outputId": "0391cc1b-6513-43f0-992c-bd76f16ae21a"
      },
      "outputs": [
        {
          "output_type": "execute_result",
          "data": {
            "text/plain": [
              "[<matplotlib.lines.Line2D at 0x7bc5f1a6c3a0>]"
            ]
          },
          "metadata": {},
          "execution_count": 76
        },
        {
          "output_type": "display_data",
          "data": {
            "text/plain": [
              "<Figure size 640x480 with 1 Axes>"
            ],
            "image/png": "[encoded data removed]"
          },
          "metadata": {}
        }
      ],
      "source": [
        "fig= plt.figure()\n",
        "plt.plot(Y_pred_class,'r')\n",
        "plt.plot(y_prueba)"
      ]
    },
    {
      "cell_type": "code",
      "execution_count": null,
      "metadata": {
        "colab": {
          "base_uri": "https://localhost:8080/"
        },
        "id": "LVmW3TZvKmGO",
        "outputId": "8a9c6e99-747f-471f-c51c-b867d412dbcd"
      },
      "outputs": [
        {
          "output_type": "stream",
          "name": "stdout",
          "text": [
            "2497/2497 [==============================] - 18s 7ms/step\n"
          ]
        }
      ],
      "source": [
        "yclass2= model.predict(X_val)"
      ]
    },
    {
      "cell_type": "code",
      "execution_count": null,
      "metadata": {
        "colab": {
          "base_uri": "https://localhost:8080/",
          "height": 447
        },
        "id": "GXkOA0GJLMr8",
        "outputId": "91a1c17c-d672-44eb-deeb-d18079a783cc"
      },
      "outputs": [
        {
          "output_type": "execute_result",
          "data": {
            "text/plain": [
              "[<matplotlib.lines.Line2D at 0x7bc5f16a7490>]"
            ]
          },
          "metadata": {},
          "execution_count": 78
        },
        {
          "output_type": "display_data",
          "data": {
            "text/plain": [
              "<Figure size 640x480 with 1 Axes>"
            ],
            "image/png": "[encoded data removed]"
          },
          "metadata": {}
        }
      ],
      "source": [
        "Yclass2=[np.argmax(yclass2[i],0) for i in range(len(yclass2))]\n",
        "fig2= plt.figure()\n",
        "plt.plot(Yclass2,'r')\n",
        "plt.plot(y_target[140000::])"
      ]
    },
    {
      "cell_type": "code",
      "execution_count": null,
      "metadata": {
        "colab": {
          "base_uri": "https://localhost:8080/"
        },
        "id": "zhmibaYtuGMi",
        "outputId": "6a2f8590-6a9a-4a8e-fefe-b5f36e7f516d"
      },
      "outputs": [
        {
          "output_type": "stream",
          "name": "stdout",
          "text": [
            "3750/3750 [==============================] - 17s 5ms/step\n"
          ]
        }
      ],
      "source": [
        "y_pred_train = model.predict(X_train)\n",
        "y_class_train=[np.argmax(y_pred_train[i],0) for i in range(len(y_pred_train))]"
      ]
    },
    {
      "cell_type": "code",
      "execution_count": null,
      "metadata": {
        "colab": {
          "base_uri": "https://localhost:8080/",
          "height": 447
        },
        "id": "RML7KuiNuVzY",
        "outputId": "349c3e8b-9a5b-40b5-c6ef-2d28b8bebf86"
      },
      "outputs": [
        {
          "output_type": "execute_result",
          "data": {
            "text/plain": [
              "[<matplotlib.lines.Line2D at 0x7bc5def900d0>]"
            ]
          },
          "metadata": {},
          "execution_count": 80
        },
        {
          "output_type": "display_data",
          "data": {
            "text/plain": [
              "<Figure size 640x480 with 1 Axes>"
            ],
            "image/png": "[encoded data removed]"
          },
          "metadata": {}
        }
      ],
      "source": [
        "fig3= plt.figure()\n",
        "plt.plot(y_class_train,'r')\n",
        "plt.plot(y_target[0:120000])"
      ]
    },
    {
      "cell_type": "code",
      "execution_count": null,
      "metadata": {
        "id": "R_iYDXXNurwA"
      },
      "outputs": [],
      "source": []
    }
  ],
  "metadata": {
    "accelerator": "GPU",
    "colab": {
      "provenance": [],
      "mount_file_id": "1RzCI5GbbUHBOujdZY59DBa6bHfP3x8VL",
      "authorship_tag": "ABX9TyMRtvcTBalVhmSACwOxWyJe"
    },
    "kernelspec": {
      "display_name": "Python 3",
      "name": "python3"
    },
    "language_info": {
      "name": "python"
    }
  },
  "nbformat": 4,
  "nbformat_minor": 0
}